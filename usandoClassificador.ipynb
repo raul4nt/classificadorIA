{
 "cells": [
  {
   "cell_type": "code",
   "execution_count": 6,
   "metadata": {},
   "outputs": [],
   "source": [
    "import os\n",
    "import tensorflow as tf\n",
    "from tensorflow.keras.preprocessing import image\n",
    "import numpy as np          "
   ]
  },
  {
   "cell_type": "code",
   "execution_count": 8,
   "metadata": {},
   "outputs": [
    {
     "name": "stdout",
     "output_type": "stream",
     "text": [
      "1/1 [==============================] - 0s 150ms/step\n"
     ]
    }
   ],
   "source": [
    "model = tf.keras.models.load_model('modelo_aula.h5')\n",
    "\n",
    "new_image_path = './test/bufalo1.jpeg'\n",
    "\n",
    "img= image.load_img(new_image_path, target_size=(150, 150))\n",
    "img = image.img_to_array(img)\n",
    "img = np.expand_dims(img, axis=0)\n",
    "img = img / 255.0\n",
    "\n",
    "prediction = model.predict(img)"
   ]
  },
  {
   "cell_type": "code",
   "execution_count": 11,
   "metadata": {},
   "outputs": [
    {
     "name": "stdout",
     "output_type": "stream",
     "text": [
      "100.00\n",
      "Classe 1, um búfalo\n"
     ]
    },
    {
     "name": "stderr",
     "output_type": "stream",
     "text": [
      "C:\\Users\\Raul\\AppData\\Local\\Temp\\ipykernel_17360\\3945547477.py:1: DeprecationWarning: Conversion of an array with ndim > 0 to a scalar is deprecated, and will error in future. Ensure you extract a single element from your array before performing this operation. (Deprecated NumPy 1.25.)\n",
      "  print(f'%.2f' % (prediction * 100))\n"
     ]
    }
   ],
   "source": [
    "print(f'%.2f' % (prediction * 100))\n",
    "\n",
    "if prediction < 0.5:\n",
    "    print('Classe 0, um touro')\n",
    "else:\n",
    "    print('Classe 1, um búfalo')"
   ]
  },
  {
   "cell_type": "code",
   "execution_count": null,
   "metadata": {},
   "outputs": [],
   "source": [
    "test_directory = './test'\n",
    "\n",
    "for filename in os.listdir(test_directory):\n",
    "    if filename.endswith(\".jpeg\") or filename.endswith(\".jpg\"):\n",
    "        print(filename)\n",
    "        image_path = os.path.join(test_directory, filename)\n",
    "\n",
    "        img = image.load_img(image_path, target_size=(150, 150))\n",
    "        img = image.img_to_array(img)\n",
    "        img = np.expand_dims(img, axis=0)\n",
    "        img = img / 255.0\n",
    "\n",
    "        prediction = model.predict(img)\n",
    "\n",
    "        if prediction < 0.5:\n",
    "            print('Classe 0, um touro')\n",
    "        \n",
    "        else:\n",
    "            print('Classe 1, um búfalo')\n",
    "        \n",
    "        print(f'%.2f\\n' % (prediction))"
   ]
  }
 ],
 "metadata": {
  "kernelspec": {
   "display_name": "Python 3",
   "language": "python",
   "name": "python3"
  },
  "language_info": {
   "codemirror_mode": {
    "name": "ipython",
    "version": 3
   },
   "file_extension": ".py",
   "mimetype": "text/x-python",
   "name": "python",
   "nbconvert_exporter": "python",
   "pygments_lexer": "ipython3",
   "version": "3.11.3"
  }
 },
 "nbformat": 4,
 "nbformat_minor": 2
}
